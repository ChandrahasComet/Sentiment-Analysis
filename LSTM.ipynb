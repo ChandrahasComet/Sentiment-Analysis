{
 "cells": [
  {
   "cell_type": "code",
   "execution_count": 1,
   "id": "9ebb4839",
   "metadata": {},
   "outputs": [],
   "source": [
    "import numpy as np\n",
    "import pandas as pd\n",
    "\n",
    "from sklearn.feature_extraction.text import CountVectorizer\n",
    "from keras.preprocessing.text import Tokenizer\n",
    "from keras.utils import pad_sequences\n",
    "from keras.models import Sequential\n",
    "from keras.layers import Dense, Embedding, LSTM, SpatialDropout1D\n",
    "from sklearn.model_selection import train_test_split\n",
    "from keras.utils.np_utils import to_categorical\n",
    "from sklearn.metrics import classification_report, confusion_matrix\n",
    "from sklearn.metrics import mean_squared_error, mean_absolute_error\n",
    "import re"
   ]
  },
  {
   "cell_type": "code",
   "execution_count": 2,
   "id": "179c2cfd",
   "metadata": {},
   "outputs": [],
   "source": [
    "data = pd.read_csv('IMDBe2.csv')\n",
    "# Keeping only the neccessary columns\n",
    "data = data[['review','sentiment']]"
   ]
  },
  {
   "cell_type": "code",
   "execution_count": 3,
   "id": "ce3765e2",
   "metadata": {},
   "outputs": [
    {
     "name": "stdout",
     "output_type": "stream",
     "text": [
      "2000\n",
      "2000\n"
     ]
    }
   ],
   "source": [
    "data = data[data.sentiment != \"Neutral\"]\n",
    "data['review'] = data['review'].apply(lambda x: x.lower()) #Converts to lower case\n",
    "data['review'] = data['review'].apply((lambda x: re.sub('[^a-zA-z0-9\\s]','',x))) # Replaces any non alpha-numeric data with empty string\n",
    "\n",
    "print(data[ data['sentiment'] == 'positive'].size)\n",
    "print(data[ data['sentiment'] == 'negative'].size)\n",
    "\n",
    "for idx,row in data.iterrows():\n",
    "    row[0] = row[0].replace('rt',' ') \n",
    "    \n",
    "max_features = 2000\n",
    "tokenizer = Tokenizer(num_words=max_features, split=' ') \n",
    "tokenizer.fit_on_texts(data['review'].values) # breaking down text to individual tokens\n",
    "X = tokenizer.texts_to_sequences(data['review'].values) #converts each string to a sequence of integer tokens\n",
    "X = pad_sequences(X) # ensures that all the sequences are of same length"
   ]
  },
  {
   "cell_type": "code",
   "execution_count": 4,
   "id": "95412f4a",
   "metadata": {},
   "outputs": [
    {
     "data": {
      "text/plain": [
       "<AxesSubplot: xlabel='sentiment', ylabel='count'>"
      ]
     },
     "execution_count": 4,
     "metadata": {},
     "output_type": "execute_result"
    },
    {
     "data": {
      "image/png": "[encoded data removed]",
      "text/plain": [
       "<Figure size 640x480 with 1 Axes>"
      ]
     },
     "metadata": {},
     "output_type": "display_data"
    }
   ],
   "source": [
    "import seaborn as sns\n",
    "\n",
    "sns.countplot(x = data['sentiment'])"
   ]
  },
  {
   "cell_type": "code",
   "execution_count": 5,
   "id": "2b8a660f",
   "metadata": {},
   "outputs": [
    {
     "name": "stdout",
     "output_type": "stream",
     "text": [
      "Model: \"sequential\"\n",
      "_________________________________________________________________\n",
      " Layer (type)                Output Shape              Param #   \n",
      "=================================================================\n",
      " embedding (Embedding)       (None, 1324, 48)          96000     \n",
      "                                                                 \n",
      " spatial_dropout1d (SpatialD  (None, 1324, 48)         0         \n",
      " ropout1D)                                                       \n",
      "                                                                 \n",
      " lstm (LSTM)                 (None, 64)                28928     \n",
      "                                                                 \n",
      " dense (Dense)               (None, 2)                 130       \n",
      "                                                                 \n",
      "=================================================================\n",
      "Total params: 125,058\n",
      "Trainable params: 125,058\n",
      "Non-trainable params: 0\n",
      "_________________________________________________________________\n",
      "None\n"
     ]
    }
   ],
   "source": [
    "embed_dim = 48 # hyper parameters\n",
    "lstm_out = 64 # no of output units\n",
    "\n",
    "model = Sequential()\n",
    "model.add(Embedding(max_features, embed_dim,input_length = X.shape[1])) #adding embedding layer\n",
    "model.add(SpatialDropout1D(0.4))\n",
    "model.add(LSTM(lstm_out, dropout=0.2, recurrent_dropout=0.2)) #drop out rates to prevent overfitting\n",
    "model.add(Dense(2,activation='softmax'))\n",
    "model.compile(loss = 'binary_crossentropy', optimizer='adam',metrics = ['accuracy'])\n",
    "print(model.summary())"
   ]
  },
  {
   "cell_type": "code",
   "execution_count": 6,
   "id": "40c636d1",
   "metadata": {},
   "outputs": [
    {
     "name": "stdout",
     "output_type": "stream",
     "text": [
      "(1700, 1324) (1700, 2)\n",
      "(300, 1324) (300, 2)\n"
     ]
    }
   ],
   "source": [
    "Y = pd.get_dummies(data['sentiment']).values\n",
    "X_train, X_test, Y_train, Y_test = train_test_split(X,Y, test_size = 0.15, random_state = 42)\n",
    "print(X_train.shape,Y_train.shape)\n",
    "print(X_test.shape,Y_test.shape)"
   ]
  },
  {
   "cell_type": "code",
   "execution_count": 7,
   "id": "37de1c00",
   "metadata": {},
   "outputs": [
    {
     "name": "stdout",
     "output_type": "stream",
     "text": [
      "Epoch 1/10\n",
      "54/54 [==============================] - 68s 1s/step - loss: 0.6925 - accuracy: 0.5118\n",
      "Epoch 2/10\n",
      "54/54 [==============================] - 64s 1s/step - loss: 0.6567 - accuracy: 0.7182\n",
      "Epoch 3/10\n",
      "54/54 [==============================] - 63s 1s/step - loss: 0.5379 - accuracy: 0.7718\n",
      "Epoch 4/10\n",
      "54/54 [==============================] - 63s 1s/step - loss: 0.3847 - accuracy: 0.8312\n",
      "Epoch 5/10\n",
      "54/54 [==============================] - 63s 1s/step - loss: 0.2566 - accuracy: 0.8976\n",
      "Epoch 6/10\n",
      "54/54 [==============================] - 65s 1s/step - loss: 0.1987 - accuracy: 0.9253\n",
      "Epoch 7/10\n",
      "54/54 [==============================] - 64s 1s/step - loss: 0.1589 - accuracy: 0.9447\n",
      "Epoch 8/10\n",
      "54/54 [==============================] - 65s 1s/step - loss: 0.2179 - accuracy: 0.9124\n",
      "Epoch 9/10\n",
      "54/54 [==============================] - 64s 1s/step - loss: 0.1044 - accuracy: 0.9706\n",
      "Epoch 10/10\n",
      "54/54 [==============================] - 64s 1s/step - loss: 0.0838 - accuracy: 0.9718\n"
     ]
    }
   ],
   "source": [
    "batch_size = 32\n",
    "history = model.fit(X_train, Y_train, epochs = 10, batch_size=batch_size, verbose = 1)"
   ]
  },
  {
   "cell_type": "code",
   "execution_count": 8,
   "id": "734a8d72",
   "metadata": {},
   "outputs": [
    {
     "data": {
      "image/png": "[encoded data removed]",
      "text/plain": [
       "<Figure size 640x480 with 1 Axes>"
      ]
     },
     "metadata": {},
     "output_type": "display_data"
    }
   ],
   "source": [
    "import matplotlib.pyplot as plt\n",
    "plt.plot(history.history['accuracy'])\n",
    "plt.plot(history.history['loss'])\n",
    "plt.title('Model Accuracy/Loss')\n",
    "plt.ylabel('Accuracy')\n",
    "plt.xlabel('Epoch')\n",
    "plt.legend(['Accuracy','Loss'], loc = 'center right')\n",
    "plt.show()"
   ]
  },
  {
   "cell_type": "code",
   "execution_count": 9,
   "id": "f16d2713",
   "metadata": {},
   "outputs": [
    {
     "name": "stdout",
     "output_type": "stream",
     "text": [
      "8/8 - 2s - loss: 0.5484 - accuracy: 0.8178 - 2s/epoch - 189ms/step\n",
      "Score: 0.55\n",
      "Validation Accuracy: 0.82\n"
     ]
    }
   ],
   "source": [
    "validation_size = 75\n",
    "batch_size = 32\n",
    "X_validate = X_test[-validation_size:]\n",
    "Y_validate = Y_test[-validation_size:]\n",
    "X_test = X_test[:-validation_size]\n",
    "Y_test = Y_test[:-validation_size]\n",
    "score,acc = model.evaluate(X_test, Y_test, verbose = 2, batch_size = batch_size)\n",
    "print(\"Score: %.2f\" % (score))\n",
    "print(\"Validation Accuracy: %.2f\" % (acc))"
   ]
  },
  {
   "cell_type": "code",
   "execution_count": 10,
   "id": "8c4b9a33",
   "metadata": {},
   "outputs": [
    {
     "name": "stdout",
     "output_type": "stream",
     "text": [
      "1/1 - 0s - 460ms/epoch - 460ms/step\n",
      "1/1 - 0s - 103ms/epoch - 103ms/step\n",
      "1/1 - 0s - 100ms/epoch - 100ms/step\n",
      "1/1 - 0s - 104ms/epoch - 104ms/step\n",
      "1/1 - 0s - 101ms/epoch - 101ms/step\n",
      "1/1 - 0s - 102ms/epoch - 102ms/step\n",
      "1/1 - 0s - 109ms/epoch - 109ms/step\n",
      "1/1 - 0s - 101ms/epoch - 101ms/step\n",
      "1/1 - 0s - 105ms/epoch - 105ms/step\n",
      "1/1 - 0s - 102ms/epoch - 102ms/step\n",
      "1/1 - 0s - 107ms/epoch - 107ms/step\n",
      "1/1 - 0s - 101ms/epoch - 101ms/step\n",
      "1/1 - 0s - 107ms/epoch - 107ms/step\n",
      "1/1 - 0s - 107ms/epoch - 107ms/step\n",
      "1/1 - 0s - 109ms/epoch - 109ms/step\n",
      "1/1 - 0s - 107ms/epoch - 107ms/step\n",
      "1/1 - 0s - 104ms/epoch - 104ms/step\n",
      "1/1 - 0s - 105ms/epoch - 105ms/step\n",
      "1/1 - 0s - 100ms/epoch - 100ms/step\n",
      "1/1 - 0s - 100ms/epoch - 100ms/step\n",
      "1/1 - 0s - 101ms/epoch - 101ms/step\n",
      "1/1 - 0s - 104ms/epoch - 104ms/step\n",
      "1/1 - 0s - 102ms/epoch - 102ms/step\n",
      "1/1 - 0s - 109ms/epoch - 109ms/step\n",
      "1/1 - 0s - 101ms/epoch - 101ms/step\n",
      "1/1 - 0s - 102ms/epoch - 102ms/step\n",
      "1/1 - 0s - 101ms/epoch - 101ms/step\n",
      "1/1 - 0s - 101ms/epoch - 101ms/step\n",
      "1/1 - 0s - 102ms/epoch - 102ms/step\n",
      "1/1 - 0s - 101ms/epoch - 101ms/step\n",
      "1/1 - 0s - 101ms/epoch - 101ms/step\n",
      "1/1 - 0s - 114ms/epoch - 114ms/step\n",
      "1/1 - 0s - 116ms/epoch - 116ms/step\n",
      "1/1 - 0s - 109ms/epoch - 109ms/step\n",
      "1/1 - 0s - 116ms/epoch - 116ms/step\n",
      "1/1 - 0s - 118ms/epoch - 118ms/step\n",
      "1/1 - 0s - 114ms/epoch - 114ms/step\n",
      "1/1 - 0s - 114ms/epoch - 114ms/step\n",
      "1/1 - 0s - 113ms/epoch - 113ms/step\n",
      "1/1 - 0s - 113ms/epoch - 113ms/step\n",
      "1/1 - 0s - 113ms/epoch - 113ms/step\n",
      "1/1 - 0s - 103ms/epoch - 103ms/step\n",
      "1/1 - 0s - 100ms/epoch - 100ms/step\n",
      "1/1 - 0s - 102ms/epoch - 102ms/step\n",
      "1/1 - 0s - 101ms/epoch - 101ms/step\n",
      "1/1 - 0s - 104ms/epoch - 104ms/step\n",
      "1/1 - 0s - 102ms/epoch - 102ms/step\n",
      "1/1 - 0s - 100ms/epoch - 100ms/step\n",
      "1/1 - 0s - 101ms/epoch - 101ms/step\n",
      "1/1 - 0s - 102ms/epoch - 102ms/step\n",
      "1/1 - 0s - 98ms/epoch - 98ms/step\n",
      "1/1 - 0s - 101ms/epoch - 101ms/step\n",
      "1/1 - 0s - 102ms/epoch - 102ms/step\n",
      "1/1 - 0s - 144ms/epoch - 144ms/step\n",
      "1/1 - 0s - 108ms/epoch - 108ms/step\n",
      "1/1 - 0s - 113ms/epoch - 113ms/step\n",
      "1/1 - 0s - 102ms/epoch - 102ms/step\n",
      "1/1 - 0s - 103ms/epoch - 103ms/step\n",
      "1/1 - 0s - 103ms/epoch - 103ms/step\n",
      "1/1 - 0s - 111ms/epoch - 111ms/step\n",
      "1/1 - 0s - 101ms/epoch - 101ms/step\n",
      "1/1 - 0s - 106ms/epoch - 106ms/step\n",
      "1/1 - 0s - 100ms/epoch - 100ms/step\n",
      "1/1 - 0s - 101ms/epoch - 101ms/step\n",
      "1/1 - 0s - 105ms/epoch - 105ms/step\n",
      "1/1 - 0s - 100ms/epoch - 100ms/step\n",
      "1/1 - 0s - 102ms/epoch - 102ms/step\n",
      "1/1 - 0s - 102ms/epoch - 102ms/step\n",
      "1/1 - 0s - 103ms/epoch - 103ms/step\n",
      "1/1 - 0s - 101ms/epoch - 101ms/step\n",
      "1/1 - 0s - 103ms/epoch - 103ms/step\n",
      "1/1 - 0s - 103ms/epoch - 103ms/step\n",
      "1/1 - 0s - 108ms/epoch - 108ms/step\n",
      "1/1 - 0s - 102ms/epoch - 102ms/step\n",
      "1/1 - 0s - 101ms/epoch - 101ms/step\n",
      "pos_acc 88.57142857142857 %\n",
      "neg_acc 75.0 %\n"
     ]
    }
   ],
   "source": [
    "pos_cnt, neg_cnt, pos_correct, neg_correct = 0, 0, 0, 0\n",
    "for x in range(len(X_validate)):\n",
    "    \n",
    "    result = model.predict(X_validate[x].reshape(1,X_test.shape[1]),batch_size=1,verbose = 2)[0]\n",
    "   \n",
    "    if np.argmax(result) == np.argmax(Y_validate[x]):\n",
    "        if np.argmax(Y_validate[x]) == 0:\n",
    "            neg_correct += 1\n",
    "        else:\n",
    "            pos_correct += 1\n",
    "       \n",
    "    if np.argmax(Y_validate[x]) == 0:\n",
    "        neg_cnt += 1\n",
    "    else:\n",
    "        pos_cnt += 1\n",
    "\n",
    "\n",
    "\n",
    "print(\"pos_acc\", pos_correct/pos_cnt*100, \"%\")\n",
    "print(\"neg_acc\", neg_correct/neg_cnt*100, \"%\")"
   ]
  },
  {
   "cell_type": "code",
   "execution_count": 11,
   "id": "06f5bfea",
   "metadata": {},
   "outputs": [
    {
     "name": "stdout",
     "output_type": "stream",
     "text": [
      "3/3 [==============================] - 1s 134ms/step\n",
      "Classification Report:\n",
      "               precision    recall  f1-score   support\n",
      "\n",
      "           0       0.88      0.75      0.81        40\n",
      "           1       0.76      0.89      0.82        35\n",
      "\n",
      "    accuracy                           0.81        75\n",
      "   macro avg       0.82      0.82      0.81        75\n",
      "weighted avg       0.82      0.81      0.81        75\n",
      "\n",
      "Confusion Matrix:\n",
      " [[30 10]\n",
      " [ 4 31]]\n",
      "Mean Squared Error: 0.18666667\n",
      "Mean Absolute Error: 0.18666667\n",
      "Root Mean Squared Error: 0.43204938\n"
     ]
    }
   ],
   "source": [
    "Y_pred = model.predict(X_validate)\n",
    "\n",
    "# convert predicted probabilities to class labels\n",
    "Y_pred = np.argmax(Y_pred, axis=1)\n",
    "Y_true = np.argmax(Y_validate, axis=1)\n",
    "\n",
    "# calculate classification report and confusion matrix\n",
    "print(\"Classification Report:\\n\", classification_report(Y_true, Y_pred))\n",
    "print(\"Confusion Matrix:\\n\", confusion_matrix(Y_true, Y_pred))\n",
    "\n",
    "# calculate mean squared error, mean absolute error, and root mean squared error\n",
    "mse = mean_squared_error(Y_true, Y_pred)\n",
    "mae = mean_absolute_error(Y_true, Y_pred)\n",
    "rmse = np.sqrt(mse)\n",
    "\n",
    "print(\"Mean Squared Error: %.8f\" % mse)\n",
    "print(\"Mean Absolute Error: %.8f\" % mae)\n",
    "print(\"Root Mean Squared Error: %.8f\" % rmse)"
   ]
  },
  {
   "cell_type": "code",
   "execution_count": 11,
   "id": "36340e51",
   "metadata": {
    "scrolled": true
   },
   "outputs": [
    {
     "name": "stdout",
     "output_type": "stream",
     "text": [
      "[[  0   0   0   0   0   0   0   0   0   0   0   0   0   0   0   0   0   0\n",
      "    0   0   0   1  17   6 180  81   3 383]]\n",
      "1/1 - 0s - 161ms/epoch - 161ms/step\n",
      "negative\n"
     ]
    }
   ],
   "source": [
    "# Validating the model using an arbitrary sentence\n",
    "\n",
    "\n",
    "twt = ['the movie is pretty bad and boring.']\n",
    "#vectorizing the tweet by the pre-fitted tokenizer instance\n",
    "twt = tokenizer.texts_to_sequences(twt)\n",
    "#padding the tweet to have exactly the same shape as `embedding_2` input\n",
    "twt = pad_sequences(twt, maxlen=28, dtype='int32', value=0)\n",
    "print(twt)\n",
    "sentiment = model.predict(twt,batch_size=32,verbose = 2)[0]\n",
    "if(np.argmax(sentiment) == 0):\n",
    "    print(\"negative\")\n",
    "elif (np.argmax(sentiment) == 1):\n",
    "    print(\"positive\")"
   ]
  },
  {
   "cell_type": "code",
   "execution_count": null,
   "id": "f9ac6942",
   "metadata": {},
   "outputs": [],
   "source": [
    "from sklearn,metrics import plot_confusion_matrix\n"
   ]
  },
  {
   "cell_type": "code",
   "execution_count": 12,
   "id": "338a4d4b",
   "metadata": {},
   "outputs": [
    {
     "name": "stdout",
     "output_type": "stream",
     "text": [
      "[[  0   0   0   0   0   0   0   0   0   0   0   0   0   0   0   0   0   0\n",
      "    1 697  62 118   2  86 359  50  49  17]]\n",
      "1/1 - 0s - 15ms/epoch - 15ms/step\n",
      "positive\n"
     ]
    }
   ],
   "source": [
    "#Validating the model using an arbitrary sentence\n",
    "\n",
    "twt = ['The team really did a great job. Very good movie']\n",
    "#vectorizing the tweet by the pre-fitted tokenizer instance\n",
    "twt = tokenizer.texts_to_sequences(twt)\n",
    "#padding the tweet to have exactly the same shape as `embedding_2` input\n",
    "twt = pad_sequences(twt, maxlen=28, dtype='int32', value=0)\n",
    "print(twt)\n",
    "sentiment = model.predict(twt,batch_size=32,verbose = 2)[0]\n",
    "if(np.argmax(sentiment) == 0):\n",
    "    print(\"negative\")\n",
    "elif (np.argmax(sentiment) == 1):\n",
    "    print(\"positive\")"
   ]
  },
  {
   "cell_type": "code",
   "execution_count": 4,
   "id": "954a2a59",
   "metadata": {},
   "outputs": [
    {
     "name": "stdout",
     "output_type": "stream",
     "text": [
      "Mean accuracy: 0.9547 +/- 0.0026\n"
     ]
    }
   ],
   "source": [
    "# Mean accuracy with Standard deviation\n",
    "import scipy.stats as stats\n",
    "import numpy as np\n",
    "\n",
    "LSTM_acc = [0.9600,0.9582,0.9576,0.9521,0.9456]\n",
    "\n",
    "mean_acc = np.mean(LSTM_acc)\n",
    "std_error = stats.sem(LSTM_acc)\n",
    "\n",
    "print('Mean accuracy: {:.4f} +/- {:.4f}'.format(mean_acc,std_error))"
   ]
  },
  {
   "cell_type": "code",
   "execution_count": null,
   "id": "24072ce2",
   "metadata": {},
   "outputs": [],
   "source": []
  },
  {
   "cell_type": "code",
   "execution_count": null,
   "id": "421d9937",
   "metadata": {},
   "outputs": [],
   "source": []
  }
 ],
 "metadata": {
  "kernelspec": {
   "display_name": "Python 3 (ipykernel)",
   "language": "python",
   "name": "python3"
  },
  "language_info": {
   "codemirror_mode": {
    "name": "ipython",
    "version": 3
   },
   "file_extension": ".py",
   "mimetype": "text/x-python",
   "name": "python",
   "nbconvert_exporter": "python",
   "pygments_lexer": "ipython3",
   "version": "3.10.7"
  }
 },
 "nbformat": 4,
 "nbformat_minor": 5
}
