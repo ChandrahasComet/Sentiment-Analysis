{
 "cells": [
  {
   "cell_type": "code",
   "execution_count": 46,
   "id": "513d4341",
   "metadata": {},
   "outputs": [],
   "source": [
    "import numpy as np\n",
    "import pandas as pd\n",
    "import re\n",
    "from keras.preprocessing import sequence\n",
    "from keras.models import Sequential\n",
    "from keras.layers import Dense,Dropout,Embedding,LSTM,Bidirectional\n",
    "from keras.preprocessing.text import Tokenizer\n",
    "from keras.utils import pad_sequences\n",
    "from sklearn.model_selection import train_test_split\n",
    "from sklearn.metrics import classification_report, confusion_matrix\n",
    "from sklearn.metrics import mean_squared_error"
   ]
  },
  {
   "cell_type": "code",
   "execution_count": 21,
   "id": "194e3094",
   "metadata": {},
   "outputs": [
    {
     "data": {
      "text/html": [
       "<div>\n",
       "<style scoped>\n",
       "    .dataframe tbody tr th:only-of-type {\n",
       "        vertical-align: middle;\n",
       "    }\n",
       "\n",
       "    .dataframe tbody tr th {\n",
       "        vertical-align: top;\n",
       "    }\n",
       "\n",
       "    .dataframe thead th {\n",
       "        text-align: right;\n",
       "    }\n",
       "</style>\n",
       "<table border=\"1\" class=\"dataframe\">\n",
       "  <thead>\n",
       "    <tr style=\"text-align: right;\">\n",
       "      <th></th>\n",
       "      <th>review</th>\n",
       "      <th>sentiment</th>\n",
       "    </tr>\n",
       "  </thead>\n",
       "  <tbody>\n",
       "    <tr>\n",
       "      <th>0</th>\n",
       "      <td>One of the other reviewers has mentioned that ...</td>\n",
       "      <td>positive</td>\n",
       "    </tr>\n",
       "    <tr>\n",
       "      <th>1</th>\n",
       "      <td>A wonderful little production. &lt;br /&gt;&lt;br /&gt;The...</td>\n",
       "      <td>positive</td>\n",
       "    </tr>\n",
       "    <tr>\n",
       "      <th>2</th>\n",
       "      <td>I thought this was a wonderful way to spend ti...</td>\n",
       "      <td>positive</td>\n",
       "    </tr>\n",
       "    <tr>\n",
       "      <th>3</th>\n",
       "      <td>Petter Mattei's \"Love in the Time of Money\" is...</td>\n",
       "      <td>positive</td>\n",
       "    </tr>\n",
       "    <tr>\n",
       "      <th>4</th>\n",
       "      <td>Probably my all-time favorite movie, a story o...</td>\n",
       "      <td>positive</td>\n",
       "    </tr>\n",
       "  </tbody>\n",
       "</table>\n",
       "</div>"
      ],
      "text/plain": [
       "                                              review sentiment\n",
       "0  One of the other reviewers has mentioned that ...  positive\n",
       "1  A wonderful little production. <br /><br />The...  positive\n",
       "2  I thought this was a wonderful way to spend ti...  positive\n",
       "3  Petter Mattei's \"Love in the Time of Money\" is...  positive\n",
       "4  Probably my all-time favorite movie, a story o...  positive"
      ]
     },
     "execution_count": 21,
     "metadata": {},
     "output_type": "execute_result"
    }
   ],
   "source": [
    "data = pd.read_csv('IMDBe2.csv')\n",
    "data.head(5)"
   ]
  },
  {
   "cell_type": "code",
   "execution_count": 22,
   "id": "bc3ba193",
   "metadata": {},
   "outputs": [
    {
     "name": "stdout",
     "output_type": "stream",
     "text": [
      "2000\n",
      "2000\n"
     ]
    }
   ],
   "source": [
    "data = data[data.sentiment != \"Neutral\"]\n",
    "data['review'] = data['review'].apply(lambda x: x.lower()) #Converts to lower case\n",
    "data['review'] = data['review'].apply((lambda x: re.sub('[^a-zA-z0-9\\s]','',x))) # Replaces any non alpha-numeric data with empty string\n",
    "\n",
    "print(data[ data['sentiment'] == 'positive'].size)\n",
    "print(data[ data['sentiment'] == 'negative'].size)\n",
    "\n",
    "for idx,row in data.iterrows():\n",
    "    row[0] = row[0].replace('rt',' ') \n",
    "    \n",
    "max_features = 2000\n",
    "tokenizer = Tokenizer(num_words=max_features, split=' ') \n",
    "tokenizer.fit_on_texts(data['review'].values) # breaking down text to individual tokens\n",
    "X = tokenizer.texts_to_sequences(data['review'].values) #converts each string to a sequence of integer tokens\n",
    "X = pad_sequences(X) # ensures that all the sequences are of same length"
   ]
  },
  {
   "cell_type": "code",
   "execution_count": 12,
   "id": "536e1743",
   "metadata": {},
   "outputs": [
    {
     "name": "stdout",
     "output_type": "stream",
     "text": [
      "(1700, 1324) (1700, 2)\n",
      "(300, 1324) (300, 2)\n"
     ]
    }
   ],
   "source": [
    "Y = pd.get_dummies(data['sentiment']).values\n",
    "X_train, X_test, Y_train, Y_test = train_test_split(X,Y, test_size = 0.15, random_state = 42)\n",
    "print(X_train.shape,Y_train.shape)\n",
    "print(X_test.shape,Y_test.shape)"
   ]
  },
  {
   "cell_type": "code",
   "execution_count": 16,
   "id": "a4d36d20",
   "metadata": {},
   "outputs": [
    {
     "name": "stdout",
     "output_type": "stream",
     "text": [
      "Model: \"sequential_2\"\n",
      "_________________________________________________________________\n",
      " Layer (type)                Output Shape              Param #   \n",
      "=================================================================\n",
      " embedding_2 (Embedding)     (None, 1324, 48)          96000     \n",
      "                                                                 \n",
      " bidirectional_2 (Bidirectio  (None, 128)              57856     \n",
      " nal)                                                            \n",
      "                                                                 \n",
      " dropout_2 (Dropout)         (None, 128)               0         \n",
      "                                                                 \n",
      " dense_2 (Dense)             (None, 2)                 258       \n",
      "                                                                 \n",
      "=================================================================\n",
      "Total params: 154,114\n",
      "Trainable params: 154,114\n",
      "Non-trainable params: 0\n",
      "_________________________________________________________________\n",
      "None\n"
     ]
    }
   ],
   "source": [
    "model = Sequential()\n",
    "model.add(Embedding(max_features,48,input_length = X.shape[1]))\n",
    "model.add(Bidirectional(LSTM(64)))\n",
    "model.add(Dropout(0.5))\n",
    "model.add(Dense(2,activation = 'softmax'))\n",
    "model.compile(loss = 'binary_crossentropy',optimizer = 'adam', metrics=['accuracy'])\n",
    "print(model.summary())"
   ]
  },
  {
   "cell_type": "code",
   "execution_count": 17,
   "id": "58cc1772",
   "metadata": {},
   "outputs": [
    {
     "name": "stdout",
     "output_type": "stream",
     "text": [
      "Epoch 1/10\n",
      "54/54 [==============================] - 28s 466ms/step - loss: 0.6927 - accuracy: 0.5059\n",
      "Epoch 2/10\n",
      "54/54 [==============================] - 28s 523ms/step - loss: 0.6283 - accuracy: 0.6824\n",
      "Epoch 3/10\n",
      "54/54 [==============================] - 28s 517ms/step - loss: 0.4984 - accuracy: 0.7924\n",
      "Epoch 4/10\n",
      "54/54 [==============================] - 30s 551ms/step - loss: 0.3189 - accuracy: 0.8788\n",
      "Epoch 5/10\n",
      "54/54 [==============================] - 37s 684ms/step - loss: 0.2465 - accuracy: 0.9082\n",
      "Epoch 6/10\n",
      "54/54 [==============================] - 37s 689ms/step - loss: 0.1895 - accuracy: 0.9329\n",
      "Epoch 7/10\n",
      "54/54 [==============================] - 39s 716ms/step - loss: 0.1303 - accuracy: 0.9606\n",
      "Epoch 8/10\n",
      "54/54 [==============================] - 40s 740ms/step - loss: 0.1055 - accuracy: 0.9676\n",
      "Epoch 9/10\n",
      "54/54 [==============================] - 40s 742ms/step - loss: 0.0788 - accuracy: 0.9800\n",
      "Epoch 10/10\n",
      "54/54 [==============================] - 37s 679ms/step - loss: 0.0869 - accuracy: 0.9735\n"
     ]
    }
   ],
   "source": [
    "history = model.fit(X_train,Y_train,batch_size=32,epochs=10, verbose=1)"
   ]
  },
  {
   "cell_type": "code",
   "execution_count": 18,
   "id": "d9bf8852",
   "metadata": {},
   "outputs": [
    {
     "data": {
      "image/png": "[encoded data removed]",
      "text/plain": [
       "<Figure size 640x480 with 1 Axes>"
      ]
     },
     "metadata": {},
     "output_type": "display_data"
    }
   ],
   "source": [
    "import matplotlib.pyplot as plt\n",
    "plt.plot(history.history['accuracy'])\n",
    "plt.plot(history.history['loss'])\n",
    "plt.title('Model Accuracy/Loss')\n",
    "plt.ylabel('Accuracy')\n",
    "plt.xlabel('Epoch')\n",
    "plt.legend(['Accuracy','Loss'], loc = 'center right')\n",
    "plt.show()"
   ]
  },
  {
   "cell_type": "code",
   "execution_count": 19,
   "id": "c971202c",
   "metadata": {},
   "outputs": [
    {
     "name": "stdout",
     "output_type": "stream",
     "text": [
      "8/8 - 2s - loss: 0.5286 - accuracy: 0.8089 - 2s/epoch - 289ms/step\n",
      "Score: 0.53\n",
      "Validation Accuracy: 0.81\n"
     ]
    }
   ],
   "source": [
    "validation_size = 75\n",
    "batch_size = 32\n",
    "X_validate = X_test[-validation_size:]\n",
    "Y_validate = Y_test[-validation_size:]\n",
    "X_test = X_test[:-validation_size]\n",
    "Y_test = Y_test[:-validation_size]\n",
    "score,acc = model.evaluate(X_test, Y_test, verbose = 2, batch_size = batch_size)\n",
    "print(\"Score: %.2f\" % (score))\n",
    "print(\"Validation Accuracy: %.2f\" % (acc))"
   ]
  },
  {
   "cell_type": "code",
   "execution_count": 49,
   "id": "d2792877",
   "metadata": {},
   "outputs": [
    {
     "name": "stdout",
     "output_type": "stream",
     "text": [
      "3/3 [==============================] - 1s 190ms/step\n",
      "Classification Report:\n",
      "               precision    recall  f1-score   support\n",
      "\n",
      "           0       0.89      0.82      0.86        40\n",
      "           1       0.82      0.89      0.85        35\n",
      "\n",
      "    accuracy                           0.85        75\n",
      "   macro avg       0.85      0.86      0.85        75\n",
      "weighted avg       0.86      0.85      0.85        75\n",
      "\n",
      "Confusion Matrix:\n",
      " [[33  7]\n",
      " [ 4 31]]\n",
      "Mean Squared Error: 0.14666667\n",
      "Mean Absolute Error: 0.14666667\n",
      "Root Mean Squared Error: 0.38297084\n"
     ]
    }
   ],
   "source": [
    "Y_pred = model.predict(X_validate)\n",
    "\n",
    "# convert predicted probabilities to class labels\n",
    "Y_pred = np.argmax(Y_pred, axis=1)\n",
    "Y_true = np.argmax(Y_validate, axis=1)\n",
    "\n",
    "# calculate classification report and confusion matrix\n",
    "print(\"Classification Report:\\n\", classification_report(Y_true, Y_pred))\n",
    "print(\"Confusion Matrix:\\n\", confusion_matrix(Y_true, Y_pred))\n",
    "\n",
    "# calculate mean squared error, mean absolute error, and root mean squared error\n",
    "mse = mean_squared_error(Y_true, Y_pred)\n",
    "mae = mean_absolute_error(Y_true, Y_pred)\n",
    "rmse = np.sqrt(mse)\n",
    "\n",
    "print(\"Mean Squared Error: %.8f\" % mse)\n",
    "print(\"Mean Absolute Error: %.8f\" % mae)\n",
    "print(\"Root Mean Squared Error: %.8f\" % rmse)"
   ]
  },
  {
   "cell_type": "code",
   "execution_count": 2,
   "id": "c532fb7f",
   "metadata": {},
   "outputs": [
    {
     "name": "stdout",
     "output_type": "stream",
     "text": [
      "Mean accuracy: 0.9732 +/- 0.0021\n"
     ]
    }
   ],
   "source": [
    "import scipy.stats as stats\n",
    "import numpy as np\n",
    "\n",
    "BILSTM_acc = [0.9735,0.9800,0.9676,0.9749,0.9700]\n",
    "\n",
    "mean_acc = np.mean(BILSTM_acc)\n",
    "std_error = stats.sem(BILSTM_acc)\n",
    "\n",
    "print('Mean accuracy: {:.4f} +/- {:.4f}'.format(mean_acc,std_error))"
   ]
  },
  {
   "cell_type": "code",
   "execution_count": null,
   "id": "e14e04f7",
   "metadata": {},
   "outputs": [],
   "source": []
  }
 ],
 "metadata": {
  "kernelspec": {
   "display_name": "Python 3 (ipykernel)",
   "language": "python",
   "name": "python3"
  },
  "language_info": {
   "codemirror_mode": {
    "name": "ipython",
    "version": 3
   },
   "file_extension": ".py",
   "mimetype": "text/x-python",
   "name": "python",
   "nbconvert_exporter": "python",
   "pygments_lexer": "ipython3",
   "version": "3.10.7"
  }
 },
 "nbformat": 4,
 "nbformat_minor": 5
}
