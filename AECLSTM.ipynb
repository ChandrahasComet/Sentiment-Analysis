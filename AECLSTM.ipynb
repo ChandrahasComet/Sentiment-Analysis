{
 "cells": [
  {
   "cell_type": "code",
   "execution_count": 1,
   "metadata": {
    "id": "_vdM5zlK_DX6"
   },
   "outputs": [],
   "source": [
    "import pandas as pd\n",
    "import numpy as np\n",
    "from keras.preprocessing.text import Tokenizer\n",
    "from keras.utils import pad_sequences\n",
    "from keras.layers import Input, Embedding, LSTM, Bidirectional, Dropout, Dense,Flatten,Activation, RepeatVector, Permute, Lambda, multiply\n",
    "from keras.models import Model\n",
    "from sklearn.model_selection import train_test_split\n",
    "from keras import backend as K\n",
    "from textblob import TextBlob"
   ]
  },
  {
   "cell_type": "code",
   "execution_count": 2,
   "metadata": {
    "id": "96p7m0YJ_EoQ"
   },
   "outputs": [],
   "source": [
    "MAX_NUM_WORDS = 20000\n",
    "MAX_SEQUENCE_LENGTH = 100\n",
    "EMBEDDING_DIM = 100\n",
    "LSTM_UNITS = 128\n",
    "BATCH_SIZE = 128\n",
    "EPOCHS = 10\n",
    "VALIDATION_SPLIT = 0.2"
   ]
  },
  {
   "cell_type": "code",
   "execution_count": 3,
   "metadata": {
    "id": "4oVxgv7x_Eqt"
   },
   "outputs": [],
   "source": [
    "df = pd.read_csv('IMDBe2.csv')\n",
    "df['sentiment'] = df['sentiment'].map({'positive': 1, 'negative': 0})"
   ]
  },
  {
   "cell_type": "code",
   "execution_count": 4,
   "metadata": {
    "id": "ghMEyCw3_Esx"
   },
   "outputs": [],
   "source": [
    "tokenizer = Tokenizer(num_words=MAX_NUM_WORDS)\n",
    "tokenizer.fit_on_texts(df['review'])\n",
    "sequences = tokenizer.texts_to_sequences(df['review'])"
   ]
  },
  {
   "cell_type": "code",
   "execution_count": 5,
   "metadata": {
    "id": "XcK4wkEn_EvP"
   },
   "outputs": [],
   "source": [
    "x = pad_sequences(sequences, maxlen=MAX_SEQUENCE_LENGTH)\n",
    "\n",
    "# Split the dataset into training and testing sets\n",
    "y = df['sentiment'].values\n",
    "x_train, x_test, y_train, y_test = train_test_split(x, y, test_size=0.2, random_state=42)"
   ]
  },
  {
   "cell_type": "code",
   "execution_count": 6,
   "metadata": {},
   "outputs": [
    {
     "name": "stdout",
     "output_type": "stream",
     "text": [
      "[[ 0.02343318  0.49036866]\n",
      " [ 0.10972222  0.55934343]\n",
      " [ 0.35400794  0.65873016]\n",
      " ...\n",
      " [ 0.05238321  0.49220328]\n",
      " [-0.44285714  0.57142857]\n",
      " [ 0.09243197  0.52615646]]\n"
     ]
    }
   ],
   "source": [
    "def get_emotion(text):\n",
    "    blob = TextBlob(text)\n",
    "    return np.array([blob.sentiment.polarity, blob.sentiment.subjectivity])\n",
    "\n",
    "emotional_features = np.zeros((len(x), 2))\n",
    "for i, text in enumerate(df[\"review\"]):\n",
    "    emotional_features[i] = get_emotion(text)\n",
    "\n",
    "print(emotional_features)"
   ]
  },
  {
   "cell_type": "code",
   "execution_count": 7,
   "metadata": {},
   "outputs": [
    {
     "data": {
      "text/plain": [
       "2000"
      ]
     },
     "execution_count": 7,
     "metadata": {},
     "output_type": "execute_result"
    }
   ],
   "source": [
    "len(emotional_features)"
   ]
  },
  {
   "cell_type": "code",
   "execution_count": 12,
   "metadata": {
    "id": "LreO4xRX_KTh"
   },
   "outputs": [],
   "source": [
    "inputs = Input(shape=(MAX_SEQUENCE_LENGTH,))\n",
    "embedding_layer = Embedding(MAX_NUM_WORDS, EMBEDDING_DIM, input_length=MAX_SEQUENCE_LENGTH)(inputs)\n",
    "lstm_output = Bidirectional(LSTM(LSTM_UNITS, return_sequences=True))(embedding_layer)\n",
    "lstm_output = Dropout(0.5)(lstm_output)\n",
    "attention = Dense(1, activation='tanh')(lstm_output)  #it is a fully coonected layer with activation function tanh\n",
    "attention = Flatten()(attention)  #the out of lstm network is fed into the Attention layer\n",
    "attention = Activation('softmax')(attention)\n",
    "attention = RepeatVector(LSTM_UNITS*2)(attention) #this layer makes sure that the assigned weights are of same length\n",
    "attention = Permute([2, 1])(attention)\n",
    "sent_representation = multiply([lstm_output, attention])\n",
    "sent_representation = Lambda(lambda xin: K.sum(xin, axis=-2), output_shape=(LSTM_UNITS*2,))(sent_representation)\n",
    "outputs = Dense(1, activation=\"sigmoid\")(sent_representation)\n",
    "model = Model(inputs=inputs, outputs=outputs)"
   ]
  },
  {
   "cell_type": "code",
   "execution_count": null,
   "metadata": {},
   "outputs": [],
   "source": []
  },
  {
   "cell_type": "code",
   "execution_count": 13,
   "metadata": {
    "id": "BLQh7bCp_KVV"
   },
   "outputs": [],
   "source": [
    "model.compile(loss=\"binary_crossentropay\", optimizer=\"adam\", metrics=[\"accuracy\"])"
   ]
  },
  {
   "cell_type": "code",
   "execution_count": 14,
   "metadata": {
    "colab": {
     "base_uri": "https://localhost:8080/"
    },
    "id": "RcXAuvHR_TQ3",
    "outputId": "8d0fa52e-0849-4c59-aa9c-abdff0a5160f"
   },
   "outputs": [
    {
     "name": "stdout",
     "output_type": "stream",
     "text": [
      "Model: \"model\"\n",
      "__________________________________________________________________________________________________\n",
      " Layer (type)                   Output Shape         Param #     Connected to                     \n",
      "==================================================================================================\n",
      " input_2 (InputLayer)           [(None, 100)]        0           []                               \n",
      "                                                                                                  \n",
      " embedding_1 (Embedding)        (None, 100, 100)     2000000     ['input_2[0][0]']                \n",
      "                                                                                                  \n",
      " bidirectional_1 (Bidirectional  (None, 100, 256)    234496      ['embedding_1[0][0]']            \n",
      " )                                                                                                \n",
      "                                                                                                  \n",
      " dropout_1 (Dropout)            (None, 100, 256)     0           ['bidirectional_1[0][0]']        \n",
      "                                                                                                  \n",
      " dense_1 (Dense)                (None, 100, 1)       257         ['dropout_1[0][0]']              \n",
      "                                                                                                  \n",
      " flatten_1 (Flatten)            (None, 100)          0           ['dense_1[0][0]']                \n",
      "                                                                                                  \n",
      " activation_1 (Activation)      (None, 100)          0           ['flatten_1[0][0]']              \n",
      "                                                                                                  \n",
      " repeat_vector_1 (RepeatVector)  (None, 256, 100)    0           ['activation_1[0][0]']           \n",
      "                                                                                                  \n",
      " permute_1 (Permute)            (None, 100, 256)     0           ['repeat_vector_1[0][0]']        \n",
      "                                                                                                  \n",
      " multiply_1 (Multiply)          (None, 100, 256)     0           ['dropout_1[0][0]',              \n",
      "                                                                  'permute_1[0][0]']              \n",
      "                                                                                                  \n",
      " lambda_1 (Lambda)              (None, 256)          0           ['multiply_1[0][0]']             \n",
      "                                                                                                  \n",
      " dense_2 (Dense)                (None, 1)            257         ['lambda_1[0][0]']               \n",
      "                                                                                                  \n",
      "==================================================================================================\n",
      "Total params: 2,235,010\n",
      "Trainable params: 2,235,010\n",
      "Non-trainable params: 0\n",
      "__________________________________________________________________________________________________\n"
     ]
    }
   ],
   "source": [
    "model.summary()"
   ]
  },
  {
   "cell_type": "code",
   "execution_count": 15,
   "metadata": {
    "colab": {
     "base_uri": "https://localhost:8080/"
    },
    "id": "pi0SOx6e_TTN",
    "outputId": "f2aad0cb-0894-4ad5-c3df-7720e2f7e3ed"
   },
   "outputs": [
    {
     "name": "stdout",
     "output_type": "stream",
     "text": [
      "Epoch 1/10\n",
      "10/10 [==============================] - 17s 1s/step - loss: 0.6928 - accuracy: 0.5070 - val_loss: 0.6914 - val_accuracy: 0.5031\n",
      "Epoch 2/10\n",
      "10/10 [==============================] - 10s 1s/step - loss: 0.6724 - accuracy: 0.6961 - val_loss: 0.6172 - val_accuracy: 0.7188\n",
      "Epoch 3/10\n",
      "10/10 [==============================] - 10s 1s/step - loss: 0.4282 - accuracy: 0.8250 - val_loss: 0.5553 - val_accuracy: 0.7125\n",
      "Epoch 4/10\n",
      "10/10 [==============================] - 8s 801ms/step - loss: 0.2028 - accuracy: 0.9438 - val_loss: 0.6851 - val_accuracy: 0.7375\n",
      "Epoch 5/10\n",
      "10/10 [==============================] - 9s 948ms/step - loss: 0.0771 - accuracy: 0.9742 - val_loss: 0.7132 - val_accuracy: 0.7250\n",
      "Epoch 6/10\n",
      "10/10 [==============================] - 12s 1s/step - loss: 0.0351 - accuracy: 0.9922 - val_loss: 0.9772 - val_accuracy: 0.7500\n",
      "Epoch 7/10\n",
      "10/10 [==============================] - 16s 2s/step - loss: 0.0274 - accuracy: 0.9914 - val_loss: 0.9126 - val_accuracy: 0.7469\n",
      "Epoch 8/10\n",
      "10/10 [==============================] - 12s 1s/step - loss: 0.0172 - accuracy: 0.9969 - val_loss: 1.0642 - val_accuracy: 0.7469\n",
      "Epoch 9/10\n",
      "10/10 [==============================] - 9s 958ms/step - loss: 0.0267 - accuracy: 0.9961 - val_loss: 1.3196 - val_accuracy: 0.7281\n",
      "Epoch 10/10\n",
      "10/10 [==============================] - 8s 803ms/step - loss: 0.0123 - accuracy: 0.9984 - val_loss: 1.2916 - val_accuracy: 0.7156\n"
     ]
    }
   ],
   "source": [
    "history = model.fit([x_train,emotional_features], y_train, validation_split=VALIDATION_SPLIT, batch_size=BATCH_SIZE, epochs=EPOCHS, verbose=1)"
   ]
  },
  {
   "cell_type": "code",
   "execution_count": 16,
   "metadata": {
    "colab": {
     "base_uri": "https://localhost:8080/",
     "height": 472
    },
    "id": "p_q4eB8eABry",
    "outputId": "02fb7568-ab6d-47e3-8333-a08ff34a15dc"
   },
   "outputs": [
    {
     "data": {
      "image/png": "[encoded data removed]",
      "text/plain": [
       "<Figure size 640x480 with 1 Axes>"
      ]
     },
     "metadata": {},
     "output_type": "display_data"
    }
   ],
   "source": [
    "import matplotlib.pyplot as plt\n",
    "plt.plot(history.history['accuracy'])\n",
    "plt.plot(history.history['loss'])\n",
    "plt.title('Model Accuracy/Loss')\n",
    "plt.ylabel('Accuracy')\n",
    "plt.xlabel('Epoch')\n",
    "plt.legend(['Accuracy','Loss'], loc = 'center right')\n",
    "plt.show()"
   ]
  },
  {
   "cell_type": "code",
   "execution_count": 18,
   "metadata": {
    "colab": {
     "base_uri": "https://localhost:8080/"
    },
    "id": "yNfUHWfaABt8",
    "outputId": "4cd2a0a5-6512-4b59-a250-b2fdb8b72390"
   },
   "outputs": [
    {
     "name": "stdout",
     "output_type": "stream",
     "text": [
      "11/11 [==============================] - 1s 90ms/step - loss: 1.4254 - accuracy: 0.6954\n",
      "Score: 1.43\n",
      "Validation Accuracy: 0.70\n"
     ]
    }
   ],
   "source": [
    "validation_size = 75\n",
    "batch_size = 32\n",
    "x_validate = x_test[-validation_size:]\n",
    "y_validate = y_test[-validation_size:]\n",
    "x_test = x_test[:-validation_size]\n",
    "y_test = y_test[:-validation_size]\n",
    "score,acc = model.evaluate(x_test, y_test, verbose = 1, batch_size = batch_size)\n",
    "print(\"Score: %.2f\" % (score))\n",
    "print(\"Validation Accuracy: %.2f\" % (acc))"
   ]
  },
  {
   "cell_type": "code",
   "execution_count": 2,
   "metadata": {
    "id": "s2-iKS94Aei4"
   },
   "outputs": [
    {
     "name": "stdout",
     "output_type": "stream",
     "text": [
      "Mean accuracy: 0.9945 +/- 0.0017\n"
     ]
    }
   ],
   "source": [
    "import scipy.stats as stats\n",
    "import numpy as np\n",
    "\n",
    "AECLSTM_acc = [0.9984,0.9898,0.9961,0.9969,0.9914]\n",
    "\n",
    "mean_acc = np.mean(AECLSTM_acc)\n",
    "std_error = stats.sem(AECLSTM_acc)\n",
    "\n",
    "print('Mean accuracy: {:.4f} +/- {:.4f}'.format(mean_acc,std_error))"
   ]
  },
  {
   "cell_type": "code",
   "execution_count": null,
   "metadata": {},
   "outputs": [],
   "source": []
  }
 ],
 "metadata": {
  "colab": {
   "provenance": []
  },
  "kernelspec": {
   "display_name": "Python 3 (ipykernel)",
   "language": "python",
   "name": "python3"
  },
  "language_info": {
   "codemirror_mode": {
    "name": "ipython",
    "version": 3
   },
   "file_extension": ".py",
   "mimetype": "text/x-python",
   "name": "python",
   "nbconvert_exporter": "python",
   "pygments_lexer": "ipython3",
   "version": "3.10.7"
  }
 },
 "nbformat": 4,
 "nbformat_minor": 1
}
