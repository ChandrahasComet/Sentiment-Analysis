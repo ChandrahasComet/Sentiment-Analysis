{
 "cells": [
  {
   "cell_type": "code",
   "execution_count": 11,
   "id": "2d98382a",
   "metadata": {},
   "outputs": [],
   "source": [
    "import numpy as np\n",
    "import pandas as pd\n",
    "\n",
    "from sklearn.feature_extraction.text import CountVectorizer\n",
    "from keras.preprocessing.text import Tokenizer\n",
    "from keras.utils import pad_sequences\n",
    "from keras.models import Sequential\n",
    "from keras.layers import Input, Embedding, LSTM, Dense, Dropout\n",
    "from keras.layers import Dense, Embedding, LSTM, SpatialDropout1D,Conv1D, MaxPooling1D, GlobalMaxPooling1D, concatenate\n",
    "from sklearn.model_selection import train_test_split\n",
    "from keras.utils.np_utils import to_categorical\n",
    "from sklearn.metrics import classification_report, confusion_matrix\n",
    "from sklearn.metrics import mean_squared_error, mean_absolute_error\n",
    "import re\n",
    "from keras.optimizers import Adam\n",
    "from keras.models import Model"
   ]
  },
  {
   "cell_type": "code",
   "execution_count": 14,
   "id": "baf3cfec",
   "metadata": {},
   "outputs": [
    {
     "name": "stdout",
     "output_type": "stream",
     "text": [
      "['positive' 'positive' 'positive' ... 'negative' 'negative' 'negative']\n"
     ]
    }
   ],
   "source": [
    "df = pd.read_csv('IMDbe2.csv')\n",
    "\n",
    "# Preprocess the data\n",
    "max_features = 5000\n",
    "maxlen = 1500\n",
    "tokenizer = Tokenizer(num_words=max_features)\n",
    "tokenizer.fit_on_texts(df['review'])\n",
    "X = tokenizer.texts_to_sequences(df['review'])\n",
    "X = pad_sequences(X, maxlen=maxlen)\n",
    "y = df['sentiment'].values\n",
    "print(y)"
   ]
  },
  {
   "cell_type": "code",
   "execution_count": 15,
   "id": "6fe2992e",
   "metadata": {},
   "outputs": [],
   "source": [
    "input_layer = Input(shape=(maxlen,))\n",
    "embedding_layer = Embedding(max_features, 128)(input_layer)\n",
    "lstm_layer = LSTM(60, return_sequences=True)(embedding_layer)\n",
    "conv_layer = Conv1D(60, 5, activation='relu')(embedding_layer)\n",
    "pool_layer = MaxPooling1D(5)(conv_layer)\n",
    "gcn_layer = Conv1D(60, 5, activation='relu')(pool_layer)\n",
    "gcn_layer = GlobalMaxPooling1D()(gcn_layer)\n",
    "dense_layer = Dense(50, activation='relu')(gcn_layer)\n",
    "output_layer = Dense(2, activation='softmax')(dense_layer)"
   ]
  },
  {
   "cell_type": "code",
   "execution_count": 16,
   "id": "9167b2c4",
   "metadata": {},
   "outputs": [
    {
     "name": "stderr",
     "output_type": "stream",
     "text": [
      "C:\\Users\\chand\\AppData\\Local\\Programs\\Python\\Python310\\lib\\site-packages\\keras\\optimizers\\optimizer_v2\\adam.py:117: UserWarning: The `lr` argument is deprecated, use `learning_rate` instead.\n",
      "  super().__init__(name, **kwargs)\n"
     ]
    }
   ],
   "source": [
    "model = Model(inputs=input_layer, outputs=output_layer)\n",
    "model.compile(loss='binary_crossentropy', optimizer=Adam(lr=0.001), metrics=['acc'])"
   ]
  },
  {
   "cell_type": "code",
   "execution_count": 17,
   "id": "99605963",
   "metadata": {},
   "outputs": [
    {
     "name": "stdout",
     "output_type": "stream",
     "text": [
      "Model: \"model_1\"\n",
      "_________________________________________________________________\n",
      " Layer (type)                Output Shape              Param #   \n",
      "=================================================================\n",
      " input_2 (InputLayer)        [(None, 1500)]            0         \n",
      "                                                                 \n",
      " embedding_2 (Embedding)     (None, 1500, 128)         640000    \n",
      "                                                                 \n",
      " conv1d_2 (Conv1D)           (None, 1496, 60)          38460     \n",
      "                                                                 \n",
      " max_pooling1d_1 (MaxPooling  (None, 299, 60)          0         \n",
      " 1D)                                                             \n",
      "                                                                 \n",
      " conv1d_3 (Conv1D)           (None, 295, 60)           18060     \n",
      "                                                                 \n",
      " global_max_pooling1d_1 (Glo  (None, 60)               0         \n",
      " balMaxPooling1D)                                                \n",
      "                                                                 \n",
      " dense_3 (Dense)             (None, 50)                3050      \n",
      "                                                                 \n",
      " dense_4 (Dense)             (None, 2)                 102       \n",
      "                                                                 \n",
      "=================================================================\n",
      "Total params: 699,672\n",
      "Trainable params: 699,672\n",
      "Non-trainable params: 0\n",
      "_________________________________________________________________\n"
     ]
    }
   ],
   "source": [
    "model.summary()"
   ]
  },
  {
   "cell_type": "code",
   "execution_count": 4,
   "id": "1b1da543",
   "metadata": {},
   "outputs": [
    {
     "name": "stdout",
     "output_type": "stream",
     "text": [
      "(1700, 100) (1700, 2)\n",
      "(300, 100) (300, 2)\n"
     ]
    }
   ],
   "source": [
    "Y = pd.get_dummies(df['sentiment']).values\n",
    "X_train, X_test, Y_train, Y_test = train_test_split(X,Y, test_size = 0.15, random_state = 42)\n",
    "print(X_train.shape,Y_train.shape)\n",
    "print(X_test.shape,Y_test.shape)"
   ]
  },
  {
   "cell_type": "code",
   "execution_count": 5,
   "id": "4e679de3",
   "metadata": {},
   "outputs": [
    {
     "name": "stdout",
     "output_type": "stream",
     "text": [
      "Epoch 1/10\n",
      "14/14 [==============================] - 7s 201ms/step - loss: 0.6929 - accuracy: 0.5024\n",
      "Epoch 2/10\n",
      "14/14 [==============================] - 3s 194ms/step - loss: 0.6878 - accuracy: 0.6647\n",
      "Epoch 3/10\n",
      "14/14 [==============================] - 3s 195ms/step - loss: 0.6282 - accuracy: 0.6565\n",
      "Epoch 4/10\n",
      "14/14 [==============================] - 3s 193ms/step - loss: 0.4962 - accuracy: 0.7818\n",
      "Epoch 5/10\n",
      "14/14 [==============================] - 3s 192ms/step - loss: 0.3869 - accuracy: 0.8553\n",
      "Epoch 6/10\n",
      "14/14 [==============================] - 3s 191ms/step - loss: 0.2809 - accuracy: 0.9088\n",
      "Epoch 7/10\n",
      "14/14 [==============================] - 3s 188ms/step - loss: 0.2134 - accuracy: 0.9371\n",
      "Epoch 8/10\n",
      "14/14 [==============================] - 3s 190ms/step - loss: 0.1502 - accuracy: 0.9541\n",
      "Epoch 9/10\n",
      "14/14 [==============================] - 3s 189ms/step - loss: 0.1171 - accuracy: 0.9712\n",
      "Epoch 10/10\n",
      "14/14 [==============================] - 3s 186ms/step - loss: 0.0940 - accuracy: 0.9759\n"
     ]
    }
   ],
   "source": [
    "history = model.fit(X_train, Y_train, epochs = 10, batch_size=128, verbose = 1)"
   ]
  },
  {
   "cell_type": "code",
   "execution_count": 1,
   "id": "56ec4ddb",
   "metadata": {},
   "outputs": [
    {
     "name": "stdout",
     "output_type": "stream",
     "text": [
      "Mean accuracy: 0.971 +/- 0.001\n"
     ]
    }
   ],
   "source": [
    "import scipy.stats as stats\n",
    "import numpy as np\n",
    "\n",
    "LSTMGCN_acc = [0.9759,0.9712,0.9698,0.9671,0.9729]\n",
    "\n",
    "mean_acc = np.mean(LSTMGCN_acc)\n",
    "std_error = stats.sem(LSTMGCN_acc)\n",
    "\n",
    "print('Mean accuracy: {:.3f} +/- {:.3f}'.format(mean_acc,std_error))"
   ]
  },
  {
   "cell_type": "code",
   "execution_count": null,
   "id": "d495d5bf",
   "metadata": {},
   "outputs": [],
   "source": []
  }
 ],
 "metadata": {
  "kernelspec": {
   "display_name": "Python 3 (ipykernel)",
   "language": "python",
   "name": "python3"
  },
  "language_info": {
   "codemirror_mode": {
    "name": "ipython",
    "version": 3
   },
   "file_extension": ".py",
   "mimetype": "text/x-python",
   "name": "python",
   "nbconvert_exporter": "python",
   "pygments_lexer": "ipython3",
   "version": "3.10.7"
  }
 },
 "nbformat": 4,
 "nbformat_minor": 5
}
